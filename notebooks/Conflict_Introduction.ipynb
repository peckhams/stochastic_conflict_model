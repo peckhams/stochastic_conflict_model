{
 "cells": [
  {
   "cell_type": "markdown",
   "id": "a2c4a488",
   "metadata": {},
   "source": [
    "## Getting Started with the Stochastic Conflict Model\n",
    "\n",
    "#### Table of Contents\n",
    "\n",
    "1.  <a href=\"#intro_A\">Introduction</a> <br>\n",
    "2.  <a href=\"#install_A\">How to Install the Python Package</a> <br>\n",
    "3.  <a href=\"#run_A\">Running the Stochastic Conflict Model</a> <br>\n",
    "4.  <a href=\"#gui_A\">GUI for the Stochastic Conflict Model</a> <br>\n",
    "5.  <a href=\"#visualize_A\">Visualizing the Model Output</a> <br>\n",
    "6.  <a href=\"#overview_A\">Overview of the Stochastic Conflict Model</a> <br>\n",
    "7.  <a href=\"#summary_A\">Summary</a> <br>\n",
    "8.  <a href=\"#refs_A\">Key References</a> <br>\n",
    "9.  <a href=\"#setup_A\">Appendix 1:  Installing in a conda Environment</a>\n",
    "\n",
    "<!-- Hyperlink IDs must be unique to work in Jupyter Lab when\n",
    "there are multiple notebooks open. Hence the trailing letter. -->"
   ]
  },
  {
   "cell_type": "markdown",
   "id": "022d0d0b",
   "metadata": {},
   "source": [
    "## Introduction  <a id=\"intro_A\"></a>\n",
    "\n",
    "The purpose of this Jupyter notebook is to illustrate various ways to run the Stochastic Conflict Model and to visualize the output files.  Background information about the model can be found in section 6: Overview of the Stochastic Conflict Model."
   ]
  },
  {
   "cell_type": "markdown",
   "id": "b4cbbffc",
   "metadata": {},
   "source": [
    "## How to Install the Python Package  <a id=\"install_A\"></a>\n",
    "\n",
    "Step-by-step instructions for how to install the Stochastic Conflict Model as a Python package in an isolated conda environment are given in <a href=\"#setup_A\">Appendix 1</a>.\n",
    "\n",
    "Once you have installed the package, you can run the Stochastic Conflict Model at a MacOS/Linux command prompt in a terminal window with:\n",
    "\n",
    "``` bash\n",
    "% cd stochastic_conflict_model\n",
    "% python conflict --cfg_file './input_files/conflict.cfg'\n",
    "```"
   ]
  },
  {
   "cell_type": "markdown",
   "id": "af3bdf01",
   "metadata": {},
   "source": [
    "## Running the Stochastic Conflict Model (command line)<a id=\"run_A\"></a>\n",
    "\n",
    "You can run the Stochastic Conflict Model in a Python session as follows.  First, import the Python package. "
   ]
  },
  {
   "cell_type": "code",
   "execution_count": 1,
   "id": "d4ed9c17",
   "metadata": {
    "scrolled": true,
    "tags": []
   },
   "outputs": [
    {
     "name": "stdout",
     "output_type": "stream",
     "text": [
      "Importing Stochastic Conflict Model package modules:\n",
      "   conflict.utils\n",
      " \n"
     ]
    }
   ],
   "source": [
    "import os\n",
    "src_dir = '/Users/peckhams/Dropbox/GitHub/stochastic_conflict_model'\n",
    "os.chdir( src_dir )\n",
    "\n",
    "from conflict.model import conflict"
   ]
  },
  {
   "cell_type": "markdown",
   "id": "a5873ec7-9631-4e74-888d-bc9b933efd79",
   "metadata": {},
   "source": [
    "Then, create an instance of the model and run it for a particular model configuration file."
   ]
  },
  {
   "cell_type": "code",
   "execution_count": null,
   "id": "742bcb39-d77f-4768-b338-2eb8d41544bd",
   "metadata": {},
   "outputs": [],
   "source": [
    "c = conflict.conflict()\n",
    "\n",
    "# Choose a configuration file\n",
    "cfg_file = 'input_files/conflict.cfg'\n",
    "# cfg_file = 'input_files/conflict_Upopcount1.cfg'\n",
    "# cfg_file = 'input_files/conflict_Upopcount2.cfg'\n",
    "\n",
    "c.run_model( cfg_file=cfg_file )"
   ]
  },
  {
   "cell_type": "markdown",
   "id": "aa999788-c158-4520-8e6d-faa8a33e0362",
   "metadata": {},
   "source": [
    "## GUI for the Stochastic Conflict Model  <a id=\"gui_A\"></a>\n",
    "\n",
    "The Stochastic Conflict Model also has a graphical user interface (GUI), built using ipywidgets, that can run in a Jupyter notebook."
   ]
  },
  {
   "cell_type": "code",
   "execution_count": 4,
   "id": "07f87378-53de-43dd-9c34-ee427225470d",
   "metadata": {},
   "outputs": [
    {
     "data": {
      "application/vnd.jupyter.widget-view+json": {
       "model_id": "2efe407f908645269847cecc85fb5462",
       "version_major": 2,
       "version_minor": 0
      },
      "text/plain": [
       "VBox(children=(HTML(value='<font size=5>Stochastic Conflict Model User Interface</font>'), Tab(children=(VBox(…"
      ]
     },
     "metadata": {},
     "output_type": "display_data"
    },
    {
     "data": {
      "application/vnd.jupyter.widget-view+json": {
       "model_id": "c1e7a907324640d9a50b65f3eae0b021",
       "version_major": 2,
       "version_minor": 0
      },
      "text/plain": [
       "Output()"
      ]
     },
     "metadata": {},
     "output_type": "display_data"
    }
   ],
   "source": [
    "from conflict.utils import conflict_gui as cg\n",
    "cgui = cg.conflict_gui()\n",
    "cgui.show_gui()"
   ]
  },
  {
   "cell_type": "markdown",
   "id": "81d97097-0115-4007-9c36-c37a706bbc0a",
   "metadata": {},
   "source": [
    "**Note:** For this GUI, the model domain is currently hard-wired to be the Greater Horn of Africa. The geographic bounding box for this region spans 30 x 30 degrees, with minlat = -5.0, maxlat = 25.0, minlon = 25.0, maxlon = 55.0.  However, the model can be used for other regions by changing these 4 parameters in the model's config file and running it from a Python prompt.\n",
    "\n",
    "**Note:** The GUI creates a config file with the name shown on the Outputs tab.  That file can also be edited with a text editor.\n",
    "\n",
    "**Note:** You can use the arrow keys after moving a slider to set an exact number (up to 3 digits after the decimal).\n",
    "\n",
    "**Note:** After a model run with the GUI, click on the small \"console bitmap\" at the bottom of the browser window, left of the word Python, to see the console output.\n",
    "\n",
    "**Note:** If you want to use a spatially uniform grid for U, C1 or C2, simply leave the corresponding text box (e.g. labeled \"Unrest Grid File\") blank. \n",
    "\n",
    "**Note:** The default grid cell size is 450 arcseconds, which is roughly 14 km.  You can perform higher resolution model runs (grid cell size = 300 arcseconds, roughly 9.2 km) by changing \"Grid ncols\" and \"Grid nrows\" to 360.  In that case, you can also enter\n",
    "```\n",
    "input_files/Horn_of_Africa_GPW-v4_pop_count_2020_300sec.tif\n",
    "```\n",
    "into the text boxes labeled \"Unrest Grid File\" and/or \"Connectivity File 1\".\n"
   ]
  },
  {
   "cell_type": "markdown",
   "id": "e1256e5a",
   "metadata": {},
   "source": [
    "## Visualizing the Model Output <a id=\"visualize_A\"></a>\n",
    "\n",
    "The Stochastic Conflict Model generates two grid stacks that are indexed by time.  One grid stack file is called \"conflict.rts\" (by default) and contains a 1 for grid cells with conflict and 0 for those without conflict.  The other grid stack is called \"conflict_IDs.rts\" (by default) and contains unique IDs for grid cells with conflict, that are the same as the ID of the grid cell where that conflict first emerged.  The time step between grids can be taken to be one day.\n",
    "\n",
    "You can also make movies of these grid stacks.  Click on the Outputs tab, then check the boxes for movies in MP4, WEBM, or both formats.  The WEBM format movies have an opacity of 0.7.\n",
    "\n",
    "You can visualize any one of the grids in these grid stacks using visualization tools that are included in the Python package, as shown here.\n"
   ]
  },
  {
   "cell_type": "code",
   "execution_count": 5,
   "id": "80c4e9bc",
   "metadata": {},
   "outputs": [],
   "source": [
    "from conflict.utils import visualize as vis\n",
    "from conflict.utils import rts_files\n",
    "import os, os.path"
   ]
  },
  {
   "cell_type": "markdown",
   "id": "605a8af9-8ec4-4e12-9d87-9fa8cf0d73e1",
   "metadata": {},
   "source": [
    "### Display One Grid in an RTS File\n",
    "\n",
    "This section illustrates how to visualize one grid in a time-indexed grid stack that has been saved in the RTS file format."
   ]
  },
  {
   "cell_type": "code",
   "execution_count": 55,
   "id": "179c4e1e-1924-40a4-b711-9481da56d980",
   "metadata": {},
   "outputs": [
    {
     "name": "stdout",
     "output_type": "stream",
     "text": [
      "Byte swap needed = False\n",
      "Number of grids in RTS file  = 100\n",
      "Reading one grid from RTS file... \n",
      "  time_index = 99\n",
      "extent = [25.0, 55.0, -5.0, 25.0]\n",
      "min(grid), max(grid) = 0.0 1.4012985e-38\n",
      "Finished.\n",
      "\n"
     ]
    },
    {
     "data": {
      "image/png": "[encoded data removed]",
      "text/plain": [
       "<Figure size 504x504 with 1 Axes>"
      ]
     },
     "metadata": {
      "needs_background": "light"
     },
     "output_type": "display_data"
    }
   ],
   "source": [
    "long_name = 'Stochastic Conflict'\n",
    "rts_filename = '~/output/conflict_IDs.rts'\n",
    "rts_filename = os.path.expanduser(rts_filename)\n",
    "rts = rts_files.rts_file()\n",
    "OK  = rts.open_file( rts_filename )\n",
    "if not(OK):\n",
    "    print('Sorry, Could not open RTS file:')\n",
    "    print( rts_filename )\n",
    "\n",
    "n_grids = int( rts.number_of_grids() )\n",
    "\n",
    "# Which grid in grid stack to display?\n",
    "# time_index = 0               # Display 1st grid\n",
    "# time_index = 2               # Display 3rd grid\n",
    "time_index = int(n_grids - 1)  # Display last grid\n",
    "\n",
    "byte_swap  = rts.byte_swap_needed()\n",
    "grid   = rts.read_grid( time_index )   # alias to get_grid()\n",
    "extent = rts.get_bounds()\n",
    "rts.close_file()\n",
    "\n",
    "print('Byte swap needed =', byte_swap )\n",
    "print('Number of grids in RTS file  =', n_grids)\n",
    "print('Reading one grid from RTS file... ')\n",
    "print('  time_index =', time_index )\n",
    "print('extent =', extent)\n",
    "print('min(grid), max(grid) =', grid.min(), grid.max())\n",
    "print('Finished.')\n",
    "print()\n",
    "\n",
    "# The LAND_SEA_BACKDROP flag provides a geospatial reference.\n",
    "vis.show_grid_as_image( grid, long_name, extent=extent,\n",
    "                        LAND_SEA_BACKDROP=True,\n",
    "                        stretch='linear',\n",
    "                        ### stretch='hist_equal',\n",
    "                        # stretch='power', p=0.3,\n",
    "                        # cmap='rainbow',\n",
    "                        cmap='jet',\n",
    "                        # a=1, b=2, p=0.5,\n",
    "                        xsize=7, ysize=7, dpi=None)"
   ]
  },
  {
   "cell_type": "markdown",
   "id": "a241a9ef-501a-468b-b0e2-600f0819bd4a",
   "metadata": {},
   "source": [
    "### Display One Grid in a netCDF File\n",
    "\n",
    "This section illustrates how to visualize one grid in a time-indexed grid stack that has been saved in the netCDF file format."
   ]
  },
  {
   "cell_type": "code",
   "execution_count": 5,
   "id": "a3aba636-d4bb-4692-b0da-b7b2d9e7c523",
   "metadata": {},
   "outputs": [
    {
     "name": "stdout",
     "output_type": "stream",
     "text": [
      "var_names in netCDF file =\n",
      "['time', 'datetime', 'X', 'Y', 'conflict_IDs']\n",
      "long_name = conflict_event__identification_number\n",
      "var_name  = conflict_IDs\n",
      "var_units = none\n",
      "n_grids   = 100\n",
      "extent = \n",
      "[25.0, 55.0, -5.0, 25.0]\n",
      "grid shape = (240, 240)\n",
      "min(grid)  = 0\n",
      "max(grid)  = 10000000\n",
      "\n"
     ]
    },
    {
     "data": {
      "image/png": "[encoded data removed]",
      "text/plain": [
       "<Figure size 504x504 with 1 Axes>"
      ]
     },
     "metadata": {
      "needs_background": "light"
     },
     "output_type": "display_data"
    }
   ],
   "source": [
    "long_name   = 'Stochastic Conflict'\n",
    "nc_filename = '~/output/conflict_IDs_2D.nc'\n",
    "nc_filename = os.path.expanduser(nc_filename)\n",
    "\n",
    "# Which grid in grid stack to display?\n",
    "# time_index = 0    # Display 1st grid\n",
    "time_index = 5   # Display 6th grid\n",
    "# time_index = 10   # Display 11th grid\n",
    "# time_index = int(n_grids - 1)  # Display last grid\n",
    "\n",
    "(grid, long_name, extent) = vis.read_grid_from_nc_file(nc_filename,\n",
    "                                time_index=time_index)\n",
    "print()\n",
    "\n",
    "# The LAND_SEA_BACKDROP flag provides a geospatial reference.\n",
    "vis.show_grid_as_image( grid, long_name, extent=extent,\n",
    "                        # BLACK_ZERO=True,\n",
    "                        LAND_SEA_BACKDROP=True,\n",
    "                        stretch='linear',\n",
    "                        ### stretch='hist_equal',\n",
    "                        # stretch='power', p=0.3,\n",
    "                        # cmap='rainbow',\n",
    "                        cmap='jet',\n",
    "                        # a=1, b=2, p=0.5,\n",
    "                        xsize=7, ysize=7, dpi=None)"
   ]
  },
  {
   "cell_type": "markdown",
   "id": "16a4cc9b-c8c0-4c33-9ed7-0923eee935ea",
   "metadata": {},
   "source": [
    "## Overview of the Stochastic Conflict Model <a id=\"overview_A\"></a>\n",
    "\n",
    "Here we describe the model, as currently envisioned and implemented, but this is still a work in progress.  Referring to the last section, let U denote a geospatial grid of values that quantify unrest.\n",
    "Let C1 denote a geospatial grid of values that quantify the average degree to which people in a given grid cell communicate with people in nearest neighbor (adjacent) grid cells.  Let C2 denote a geospatial grid of values that quantify the average degree to which people in a grid cell communicate with (i.e. send or receive information to/from) people in any other grid cell.  Note:  C2 depends on the degree to which a given cell is connected electronically to the rest of the country (or region or world).  In general, U, C1, and C2 values would be expected to vary both spatially and in time. (These may be estimated by a machine learning algorithm or some other algorithm as functions of selected indicator variables.)\n",
    "\n",
    "Note:  While TVs, radios and newspapers allow people to receive information, they are much less likely to be used by people to send information to others.  This is in sharp contrast with telephones (cell or land-line), and internet access which allow two-way communication.  In order for information to spread from one cell to another, it has to first be received by some means and then sent or forwarded via two-way communication.  Perhaps we should therefore distinguish between the degree to which people in a grid cell receive information electronically (by TV, radio, newspaper, phone, internet), and the degree to which they send it electronically (only by phone & internet).  The time it takes for a person to act on information received (e.g. forward it, organize a protest, write about it) should probably also be taken into account.\n",
    "\n",
    "Note:  We could instead define C1 and C2 as follows.  Let B1 and B2 denote the average degree to which any one person can communicate with (1) people in a nearest neighbor grid cell, or (2) people in any other grid cell in the country, respectively.  We could then compute C1 and C2 by multiplying B1 and B2 by the population count of the grid cell.  This would underscore the fact that -- especially for 2-way communication -- the total amount of communication is proportional to population size, and not simply related to the percentage of the population that can communicate electronically.\n",
    "Conflict Emergence\n",
    "Let E(i,j,k) denote the event that a conflict emerges during the kth discrete time interval, in the grid cell that has column and row indices i and j.   Let p(i,j,k) be the probability of the event E(i,j,k):\n",
    "\n",
    "p(i,j,k) = p_emerge(i,j,k) = Prob[ E(i, j, k)]\n",
    "\n",
    "We assume that p(i,j,k) is an increasing function of U(i,j,k). Initially, we will simply consider the special case where p(i,j,k) is proportional to U(i,j,k), so that:\n",
    "\n",
    "if (S(i,j,k) = 0), &nbsp; p(i,j,k) = c_emerge * U(i,j,k) / max_i,j \\[ U(i,j,k) \\]<br>\n",
    "if (S(i,j,k) = 1), &nbsp; p(i,j,k) = 0,<br>\n",
    "\n",
    "where c_emerge is in (0,1].  Here, we have normalized the grid U(i,j,k) and then multiplied the result by a constant, c.    Dividing by the array max and multiplying by a model parameter c in (0,1] guarantees that 0 <= p(i,j,k) < 1 for every grid cell --- as it must since it is a probability.  Note that the parameter c can be adjusted to make conflicts more or less likely to occur.  In the special case where all values in the U grid are equal, all cells will have the same probability of conflict emergence: p_emerge = c_emerge.   (Note: Instead of dividing by the array max, we could have divided by the array sum, but then the upper bound on c is more complicated.)\n",
    "\n",
    "Let S be a geospatial grid with the same dimensions as U, C1 and C2, such that the value of a grid cell in S is 1 if the cell is experiencing (or engaged in) a conflict, and 0 otherwise.  For each model timestep, and for each grid cell, generate an independent, random variable from a Bernoulli distribution (see Bernoulli Distribution, 2021)  such that:\n",
    "\n",
    "S(i,j,k) = 1 with probability p(i,j,k) and<br>\n",
    "S(i,j,k) = 0 with probability (1 - p(i,j,k)).<br>\n",
    "\n",
    "Recall that the E(S(i,j,k) = p(i,j,k) for a Bernoulli random variable.  Also recall that the expected value of a sum of random variables is equal to the sum of their expected values, even if they are not independent.  Therefore, the expected number of grid cells in which a conflict is initiated in the 1st time interval (k=1, before any spreading) is given by:\n",
    "\n",
    "   E( Sum_i,j [S(i,j,1)] = ( total conflicts in 1st interval ) = Sum_i,j [p(i,j,1)]\n",
    "\n",
    "The expected number of grid cells in which a conflict is initiated in the kth time interval (k >1, before spreading), will be less than this since cells already experiencing conflict (i.e. with S=1) are excluded (i.e. for them, p(i,j,k) = 0).\n",
    "Conflict Spreading\n",
    "For every grid cell that has S(i,j,k) = 1, the next step is to determine if conflict spreads to other grid cells (which could be nearest neighbors or far away due to electronic connectivity).  If it does, the spreading process is repeated for those other grid cells until there is no further spreading.  (That is, no cells have their S value changed to 1.)  Since there is a lag time between cell-to-cell communication and a resulting action (to spread conflict into a new cell), we introduce a time lag parameter, tau, which can be taken to be a multiple of the model timestep. (In the current version of the model, tau = 1.)\n",
    "\n",
    "There are 4 special cases of spreading that can be considered:\n",
    "Case 1:  no spreading,\n",
    "Case 2:  spreading only by local connectivity,\n",
    "Case 3:  spreading by only nonlocal connectivity, and\n",
    "Case 4:  spreading by both local and nonlocal connectivity. \n",
    "For the last three of these cases, various spreading rules are also possible.\n",
    "\n",
    "Case 1.  No spreading.  While there may be conflict in many cells, there is no spreading of conflict to other grid cells.\n",
    "\n",
    "Case 2.  Spreading only by local connectivity.  In this case, conflict can only spread from a grid cell with conflict to other grid cells that have sufficiently high C1 and U values.  Cells with a high C1 value should include nearest neighbor grid cells and possibly other cells, such as those separated by a very short travel time.  In the current version of the model, the probability of spreading to any nearest neighbor is weighted by the U value of that neighbor, i.e.\n",
    "\n",
    " \t\t\tp(n) = c_spread * U(n) / max_n(U(n)), \n",
    "\n",
    "where c_spread is in (0,1] and n is a nearest neighbor index.  If U is zero for all neighbors, then p=0.  Notice that conflict cannot spread to a neighbor that has U=0, and this should include grid cells in a lake or in the ocean, for example.  In the current version, conflict cannot “spread to” or “re-emerge” in a cell that already has conflict,  but this could be changed.  Various other spreading rules are also possible, such as:\n",
    " \n",
    "(a) Conflict will spread to any neighbor, n, such that U(n) > U0, where U0 is a threshold value.\n",
    "(b) Conflict will spread to any neighbor, n, such that U(n) >= a * U(i), with a in (0,1].\n",
    "(c)  The probability of spreading to any neighbor is weighted by the U and C1 values of that neighbor, for example using:\n",
    "\n",
    "p(n) = c_spread * [U(n) * C1(n)] / max_n [ U(n) * C1(n) ],\n",
    "\n",
    "where c_spread is in (0,1].  Here, the probability of spreading to a neighbor is low if either U(n) or C1(n) is low.\n",
    "\n",
    "Case 3.  Spreading only by nonlocal connectivity.  In this case conflict can spread from a grid cell with conflict to any other grid cells that have sufficiently high C2 and U values.\n",
    "\n",
    "Case 4.  Spreading by both local and nonlocal connectivity.  In this case, conflict can spread from a cell with conflict to:\n",
    "\n",
    "(1a) any of its nearest neighbor grid cells if its own C1 value is sufficiently high, and if their value of U is sufficiently high,   OR\n",
    "(1b) any of its nearest neighbor grid cells with sufficiently high C1 and U values.\n",
    "\n",
    "(2) any other grid cell with sufficiently high C2 and U values.\n",
    "Conflict Duration\n",
    "For every grid cell that had its S value set to 1 in the kth time interval (by emergence/triggering or spreading), generate an independent random variable from a Bernoulli distribution (Bernoulli Distribution, 2021) with parameter, p_resolve.  If B=1, the conflict is resolved in time interval k and if B=0 the conflict continues.  If we take X to be the random number of time intervals before the conflict is resolved, which is the duration of the conflict, then X will have a Geometric distribution (Geometric Distribution, 2021) with parameter p_resolve.  The expected value of this random duration is then equal to 1/p_resolve. (So a smaller value of p_resolve results in a larger mean duration.)  As long as conflict is active within a cell (some number of timesteps) it will attempt to spread to other cells.\n",
    "Expected Results\n",
    "Depending on the values of the model parameters U, C1, C2, c_emerge, c_spread and p_resolve, this model can exhibit a wide range of behaviors, from rare conflicts that remain isolated to conflicts that spread to fill an entire region.  Preliminary mathematical analysis of this model as well as early simulations suggests that if the model parameters are assumed not to vary with time, then this model may evolve toward a “statistical steady-state” condition where:\n",
    "\n",
    "(1) the mean rate at which new conflicts appear (by either emergence or spreading) eventually becomes equal to the mean rate at which they are resolved, and therefore\n",
    "\n",
    "(2) the mean number of grid cells that are experiencing conflict in the kth time interval approaches a constant.\n",
    "\n",
    "For details, see Appendix 1:  Preliminary Mathematical Results.\n"
   ]
  },
  {
   "cell_type": "markdown",
   "id": "bab5a914",
   "metadata": {},
   "source": [
    "## Summary  <a id=\"summary_A\"></a>\n",
    "\n",
    "This model is capable of displaying a wide variety of conflict scenarios, depending on the parameter settings as well as the unrest grid, U, and the local and nonlocal connectivity grids, C1 and C2.  The unrest grid, U, determines the likelihood that conflict will emerge in any given grid cell, while the connectivity grids determine the likelihood that conflicts will spread.  This model is a work in progress, and summary statistics for adminstrative zones can be computed later from the output files."
   ]
  },
  {
   "cell_type": "markdown",
   "id": "fe196817",
   "metadata": {},
   "source": [
    "## References  <a id=\"refs_A\"></a>\n",
    "\n",
    "ACLED (2021a) Curated Data, https://acleddata.com/curated-data-files/, Accessed May 25, 2021\n",
    "\n",
    "ACLED (2021b) Conflict Pulse Model, Armed Conflict Location and Event Data (ACLED) project, https://acleddata.com/conflict-pulse/.\n",
    "\n",
    "Arab Spring (2021) Wikipedia, https://en.wikipedia.org/wiki/Arab_Spring, Accessed: May 12, 2021\n",
    "\n",
    "Asynchronous Cellular Automaton (2021), Wikipedia, (see random independent update scheme) https://en.wikipedia.org/wiki/Asynchronous_cellular_automaton\n",
    "\n",
    "Bernoulli Distribution (2021), Wikipedia, https://en.wikipedia.org/wiki/Bernoulli_distribution, Accessed: May 12, 2021\n",
    "\n",
    "Binary Regression (2021), Wikipedia, https://en.wikipedia.org/wiki/Binary_regression, Accessed: May 31, 2021\n",
    "\n",
    "Binomial Distribution (2021), Wikipedia, https://en.wikipedia.org/wiki/Binomial_distribution, Accessed: May 12, 2021\n",
    "\n",
    "Boschee, E., J. Lautenschlager, S. O'Brien, S. Shellman, J. Starz (2018) ICEWS Weekly Event Data, https://doi.org/10.7910/DVN/QI2T9A, Harvard Dataverse, V278\n",
    "\n",
    "Boschee, E., J. Lautenschlager, S. O'Brien, S. Shellman, J. Starz, M. Ward (2015) ICEWS Coded Event Data, https://doi.org/10.7910/DVN/28075, Harvard Dataverse, V30, UNF:6:NOSHB7wyt0SQ8sMg7+w38w== [fileUNF]\n",
    "\n",
    "Boschee, E., J. Lautenschlager, S. Shellman, A. Shilliday (2015) ICEWS Dictionaries, https://doi.org/10.7910/DVN/28118, Harvard Dataverse, V4, UNF:6:WBLzLxVC+rRZzmsx/wwtHA== [fileUNF]\n",
    "\n",
    "Cellular Automaton (2021), Wikipedia, https://en.wikipedia.org/wiki/Cellular_automaton, Accessed: May 13, 2021\n",
    "\n",
    "Clifford, P. and A. Sudbury (1973) A model for spatial conflict, Biometrika, Vol. 60, No. 3, pp. 581-588, Oxford University Press, https://www.jstor.org/stable/2335008\n",
    "\n",
    "Combustibility and Flammability (2021) Wikipedia, https://en.wikipedia.org/wiki/Combustibility_and_flammability, Accessed: May 13, 2021\n",
    "\n",
    "Compartmental Models (2021) Compartmental models in epidemiology, Wikipedia, https://en.wikipedia.org/wiki/Compartmental_models_in_epidemiology, Accessed: May 14, 2021.\n",
    "\n",
    "Drossel, B. and F. Schwabl (1992) Self-organized critical forest-fire model, Physical Review Letters, Vol. 69, No. 11.\n",
    "\n",
    "Exponential Distribution (2021) Wikipedia, https://en.wikipedia.org/wiki/Exponential_distribution, Accessed: May 14, 2021\n",
    "\n",
    "Forest-fire Model (2021), Wikipedia, https://en.wikipedia.org/wiki/Forest-fire_model, Accessed: May 12, 2021\n",
    "\n",
    "Funsten, R. (2016) How understanding conflict can help improve our lives, TEDxTryon, YouTube, https://www.youtube.com/watch?v=fdDQSHyyUic, 11 min, 58 sec.\n",
    "\n",
    "GDELT Project (2021) A global database of events, https://www.gdeltproject.org/\n",
    "\n",
    "Geometric Distribution (2021) Wikipedia, https://en.wikipedia.org/wiki/Geometric_distribution, Accessed: May 14, 2021\n",
    "\n",
    "Goldstone, J.A. (2002) Population and security: How demographic change can lead to violent conflict, Journal of International Affairs, Vol. 56, No. 1, 20 pp. \n",
    "\n",
    "Hadley, L, (2019) Borders and the feasibility of rebel conflict, Borders in Globalization Review, Vol. 1, No. 1, pp. 66-82, https://doi.org/10.18357/bigr11201919259 \n",
    "\n",
    "Halkia, M., S. Ferri, M. Papazoglou, M-S. van Damme, G. Jenkinson, K-M. Baumann, D. Thomakos (2019) Dynamic global conflict risk index, JRC Technical Reports, European Commission, Publications Office of the EU, https://doi.org/10.2760/846412.\n",
    "\n",
    "Halkia, M., S. Ferri, M. Papazoglou, M-S. van Damme, D. Thomakos (2020) Conflict event modelling: Research experiment and event data limitations, Conference: LREC 2020 Workshop on Automated Event Extraction of Socio-political Events from News (AESPEN2020), Marseille, France. https://www.researchgate.net/publication/341378782_Conflict_Event_Modelling_Research_Experiment_and_Event_Data_Limitations\n",
    "\n",
    "Hamblin, R.L., M. Hout, J.L.L. Miller, B.L. Pitcher (1977) Arms races:  A test of two models, American Sociological Review, Vol. 42, No. 2 (April 1977), pp. 338-354, https://doi.org/10.2307/2094609\n",
    "\n",
    "Hatfield and McCoy Feud (2021), Wikipedia, https://en.wikipedia.org/wiki/Hatfield%E2%80%93McCoy_feud, Accessed: May 12, 2021, classic example of self-perpetuated conflict.\n",
    "\n",
    "Infectious Disease Models (2021), Mathematical modeling of infectious disease, Wikipedia, https://en.wikipedia.org/wiki/Mathematical_modelling_of_infectious_disease, Accessed: May 14, 2021.\n",
    "\n",
    "Kim, M., K., D. Paini, and R. Jurdak (2019) Modeling stochastic processes in disease spread across a heterogeneous social system, Proceedings of the National Academy of Sciences, Vol. 116, No. 2, 401-406, https://doi.org/10.1073/pnas.1801429116.\n",
    "\n",
    "Lee, E.D., B.C. Daniels, C.R. Myers, D.C. Krakauer, and J.C. Flack (2020a) Scaling theory of armed-conflict avalanches, Physical Review E, Vol. 102, No. 042312, 12 pp., \t\t \thttp://doi.org/10.1103/PhysRevE.102.042312\n",
    "\n",
    "Lee, E.D., B.C. Daniels, C.R. Myers, D.C. Krakauer, and J.C. Flack (2020b) Emergent regularities and scaling in armed conflict data, arXiv:1903.07762v4 [physics.soc-ph].\n",
    "\n",
    "Logistic Regression (2021), Wikipedia, https://en.wikipedia.org/wiki/Logistic_regression, Accessed: May 12, 2021\n",
    "\n",
    "Morrow, J.D. (1986) A spatial model of international conflict, The American Political Science Review, Vol. 80, No. 4 (Dec. 1986), pp. 1131-1150, American Political Science Association, Stable URL: https://www.jstor.org/stable/1960860.\n",
    "\n",
    "Nailufar, B., S. Wijaya, and D. Perwitasari (2015) Landscape modeling for human - Sulawesi crested black macaques conflict in North Sulawesi, Procedia Environmental Sciences, 24, pp. 104-110. http://doi.org/10.1016/j.proenv.2015.03.014. (example of logistic regression)\n",
    "\n",
    "Rustad, S.A., H. Buhaug, Å. Falch, and S. Gates (2011)  All conflict is local: Modeling subnational variation in civil conflict risk, Conflict Management and Peace Science, Vol. 28, No. 1, pp. 15-40.\n",
    "\n",
    "UCDP (2021) Uppsala Conflict Data Program, https://www.pcr.uu.se/research/ucdp/.\n",
    "\n",
    "USAID (2012) Conflict Assessment Framework: Application Guide, United States Agency for International Development. 48 pp., https://pdf.usaid.gov/pdf_docs/PNADY740.pdf\n",
    "\n",
    "ViEWS (2021) A political Violence Early Warning System, Dept. of Peace and Conflict Research, Uppsala University, https://www.pcr.uu.se/research/views/.\n",
    "\n",
    "Walther, O.J., S.M. Radil, D.G. Russell, and M. Trémolières (2020) Introducing the Spatial Conflict Dynamics indicator of political violence, arXiv:2003.01750v2 [physics.soc-ph].\n",
    "\n",
    "Yurevich, P.A., M.A. Olegovich, S.V. Mikhailovich, and P.Y. Vasilievich (2018) Modeling conflict in a social system using diffusion equations, Simulation: Transactions of the Society for Modeling and Simulation International, Vol. 94, No. 12, pp. 1053-1061, http://doi.org/10.1177/0037549718761573."
   ]
  },
  {
   "cell_type": "markdown",
   "id": "f2b5de21",
   "metadata": {},
   "source": [
    "## Appendix 1: Installing in a conda Environment  <a id=\"setup_A\"></a>\n",
    "\n",
    "To run this Jupyter notebook, it is recommended to use Python 3.7 or higher from an Anaconda distribution and to install the required Python packages in a conda environment called <b>conflict</b>.  This prevents conflicts with other Python packages you may have installed.\n",
    "The Anaconda distribution includes many packages from the\n",
    "[<b>Python Standard Library</b>](https://docs.python.org/3/library/).\n",
    "\n",
    "First, download the Conflict package from GitHub repo \"conflict\" at:\n",
    "<b>https://github.com/peckhams/stochastic_conflict_model</b>.\n",
    "Copy or unzip the package into some directory on your computer.  Let's refer to this full path as CM_DIR.  e.g. CM_DIR = /Users/peckhams/Dropbox/stochastic_conflict_model\n",
    "\n",
    "Installing Conflict with pip causes most of its dependencies to be installed automatically.  However, if you want to run the growing collection of Jupyter notebooks (such as this one) that highlight Conflict functionality, you will also need to install the\n",
    "[<b>nb_conda</b>](https://docs.anaconda.com/anaconda/user-guide/tasks/use-jupyter-notebook-extensions/) package, and optionally the <b>jupyterlab</b> package (see below).\n",
    "In addition, some of the new Conflict utilities (e.g. regrid.py and visualize.py) require the\n",
    "[<b>gdal</b>](https://pypi.org/project/GDAL/) and\n",
    "[<b>matplotlib</b>](https://matplotlib.org/) packages.\n",
    "Simply type the following commands at an OS prompt after installing Anaconda and downloading Conflict.\n",
    "\n",
    "``` bash\n",
    "% conda update -n base conda\n",
    "% conda create --name conflict python=3.7 anaconda\n",
    "% conda activate conflict\n",
    "% conda list\n",
    "% conda install numpy\n",
    "% conda install pandas\n",
    "% conda install nb_conda\n",
    "% conda install jupyterlab\n",
    "% conda install gdal\n",
    "% conda install matplotlib\n",
    "% conda install imageio\n",
    "% conda install netCDF4\n",
    "% conda install pip\n",
    "% pip install imageio-ffmpeg  (an imageio extension)\n",
    "% cd CM_DIR\n",
    "% pip install -e .   (-e is the editable/developer option)\n",
    "```\n",
    "\n",
    "<b>Note:</b>  The <b>pip</b> package manager is used to install Conflict, since it is not available as a conda package.  (It gets installed when you install <b>nb_conda</b>.) However, like conda, pip will install a package and its dependencies into the currently active conda environment, as explained\n",
    "[<b>in these docs</b>](https://docs.conda.io/projects/conda/en/4.6.1/user-guide/tasks/manage-pkgs.html#installing-non-conda-packages).  If you switch to another environment with <b>conda activate envname</b>, you can confirm that topoflow (or cfunits, gdal, netcdf4, etc.) is not there with <b>conda list</b>. \n",
    "\n",
    "<b>Note:</b>  Some of the Conflict utilities use a Python package version of [<b>GDAL</b>](https://pypi.org/project/GDAL/).  At the time of this writing, installing <b>gdal</b> from the <b>conda-forge </b> with <i>conda install -c conda-forge gdal</i> did not work.\n",
    "\n",
    "#### <b>Conda Environments</b>\n",
    "\n",
    "Note that <b>conda</b> is the name of the package manager for the popular Anaconda Python distribution.  One feature of conda is support for multiple environments, which are isolated from one another.  When you install Anaconda, an environment called <b>base</b> is created for you and a base set of commonly-used Python packages are installed there.  However, you can (and should!) create additional, named environments and install different sets of Python packages into them without worrying about potential conflicts with packages in other environments.  Type <b>conda env list</b> to list your available environments.  You can switch to one of your other environments using the command <b>conda activate envname</b>.  (Replace \"envname\" with the name of an environment.) You can switch back to the base environment with the command <b>conda deactivate</b>.  It is better not to install new packages into the base environment.  See the online conda documentation on [<b>Managing Environments</b>](https://docs.conda.io/projects/conda/en/latest/user-guide/tasks/manage-environments.html) for more information.\n",
    "\n",
    "It is always a good idea to update conda itself before creating new environments and installing packages in them. The \"-n\" flag is followed by the name of the environment to update, and the \"-c\" flag is followed by the name of the <b>channel</b> from which to get packages.  A channel is a collection of Python packages that are provided and maintained by some group.  The word \"defaults\" refers to\n",
    "[<b>Anaconda's own collection</b>](https://docs.anaconda.com/anaconda/packages/pkg-docs/), while\n",
    "[<b>conda-forge</b>](https://conda-forge.org/feedstocks/)\n",
    "refers to another popular collection and the GitHub organization that maintains it.  Many Python packages are available from both of these channels.  (However, the ipyleaflet and pydap  packages are currently not available in the Anaconda collection.) When you are installing several packages into an environment, the potential for installation problems seems to be less if you get them all from the same channel.  Keep in mind that packages you install will likely depend on many other Python packages, so there is a potential for conflicts, usually related to different package versions.  Using conda environments helps to mitigate against this and helps with <b>reproducibility</b>.\n",
    "\n",
    "Once you've switched to an environment with <b>conda activate envname</b>, you can type <b>conda list</b> to see a list of packages.  If you do this right after you create a new environment you will see that it contains no packages.  If you do this right after installing each package above you will see that:\n",
    "\n",
    "<ul>\n",
    "    <li>Installing <b>nb_conda</b> triggers installation of <b>nb_conda_kernels</b> (2.2.3),\n",
    "        <b>ipykernel</b> (5.3.0), <b>notebook</b> (6.0.3), <b>pip</b> (20.0.2),\n",
    "        <b>setuptools</b> (46.4.0) and <b>traitlets</b> (4.3.3), among many others. \n",
    "    <li>Installing <b>gdal</b> triggers installation of osr, etc.\n",
    "    <li>Installing <b>matplotlib</b> triggers installation of ##########. \n",
    "</ul>\n",
    "\n",
    "#### <b>Jupyter Notebook Extensions</b>\n",
    "\n",
    "Note that <b>nb_conda</b> is installed first above, and triggers installation of <b>nb_conda_kernels</b> along with <b>notebook</b>.  This is important as it makes your Jupyter notebook app aware of your conda environments and available in the app as \"kernels\".  Anaconda provides a helpful page on the\n",
    "[<b>Jupyter Notebook Extensions</b>](https://docs.continuum.io/anaconda/user-guide/tasks/use-jupyter-notebook-extensions/).\n",
    "That page also explains how you can enable or disable these extensions individually. The command <b>jupyter nbextension list</b> shows you the extensions that are installed and whether they are enabled.  If you run the <b>jupyter notebook</b> or <b>jupyter lab</b> command in an environment that has <b>nb_conda_kernels</b> installed (see below), you will have the ability to associate one of your available conda environments with any new notebook you create.  Different environments give rise to different <b>kernels</b> in Jupyter, and the kernel name includes the environment name, e.g. <b>Python \\[conda env:tf36\\]</b>.  The kernel name is displayed in the upper right corner.  Notebooks typically open with the \"environment kernel\" they were created with. However, there is a <b>Change Kernel</b> option in the <b>Kernel</b> menu in the Jupyter app menu bar. (After changing the kernel, you may need to choose <b>Restart</b> from the <b>Kernel</b> menu.\n",
    "\n",
    "#### <b>Cloning a conda Environment</b>\n",
    "\n",
    "If your notebook is working but then you want to import additional packages (possibly with many dependencies, and potential for problems), you can keep the first environment but clone it with\n",
    "<b><i>conda create --name clonename --copy --clone envname</i></b>,\n",
    "and then install the additional packages in the clone.  This way, you can switch to the new environment's kernel and try to run your notebook, but if you run into any problems you can easily revert back to the original environment and functionality.\n",
    "\n",
    "<b>Note:</b> Setting the \"--copy\" flag installs all packages using copies instead of hard or soft links.  This is necessary to avoid problems when using <b>pip</b> together with <b>conda</b> as described [<b>on this page</b>](https://stackoverflow.com/questions/43879119/installing-tensorflow-in-cloned-conda-environment-breaks-conda-environment-it-wa).\n",
    "\n",
    "#### <b>Running Notebooks in the Jupyter Notebook App</b>\n",
    "\n",
    "When you want to run the notebook, type <b>conda activate tf36</b> (at an OS command prompt) to activate this environment.  Then change to the directory that contains this notebook and type <b>jupyter notebook</b>.  By default, this folder is called <b>Jupyter</b> and is in your home directory.  In the app, choose this notebook by name, \"TopoFlow_Getting_Started.ipynb\", and make sure to choose the kernel called:  <b>Python \\[conda env:tf36\\]</b>.  See the References section at the end for more info.\n",
    "\n",
    "#### <b>Running Notebooks in the JupyterLab App</b>\n",
    "\n",
    "The\n",
    "[<b>JupyterLab</b>](https://jupyterlab.readthedocs.io/en/stable/index.html)\n",
    "app is a cool, new successor to the Notebook app and offers many additional features.  If you want to use this notebook in JupyterLab, you need to install one more Python package, as follows.\n",
    "\n",
    "``` bash\n",
    "% conda activate conflict\n",
    "% conda install jupyterlab\n",
    "```\n",
    "\n",
    "You launch the JupyterLab app by typing <b>jupyter lab</b> instead of <b>jupyter notebook</b>.  To quit, choose <b>Logout</b> or <b>Shutdown</b> from the app's <b>File</b> menu.\n",
    "\n",
    "#### <b>JupyterLab Extensions</b>\n",
    "\n",
    "The Jupyter project provides documentation on\n",
    "[<b>JupyterLab Extensions</b>](https://jupyterlab.readthedocs.io/en/stable/user/extensions.html)\n",
    "which add capabilities to JupyterLab.  For example, after installing jupyterlab (see just above), if you want to use the <b>ipywidgets</b> and <b>ipyleaflet</b> Python packages, you need to install two extensions, as follows:\n",
    "```\n",
    "% conda activate tf36\n",
    "% jupyter labextension install jupyter-leaflet\n",
    "% jupyter labextension install @jupyter-widgets/jupyterlab-manager\n",
    "```\n",
    "To list the jupyter labextensions you have, and to see whether or not they are enabled, type <b>jupyter labextension list</b>.  <b>Note:</b> If you start jupyterlab from a conda environment in which a given extension is not installed, and then open or switch to a notebook which uses a different \"environment kernel\", one that requires that extension, the notebook may not work.\n",
    "\n",
    "You should only install trusted extensions, due to security concerns, as explained in the documentation.  Third-party extensions pose a potential security risk.  An extension that allows you to play MP4 movie files in JupyterLab is\n",
    "[<b>available on GitHub</b>](https://github.com/jupyterlab/jupyterlab-mp4)\n",
    "(by Ian Rose of the JupyterLab organization)\n",
    "and can be installed with the command:\n",
    "```\n",
    "% jupyter labextension install @jupyterlab/mp4-extension\n",
    "```\n",
    "<b>Note:</b> This command is from a pull-request on the extension's github repo.\n",
    "Using the command: \"jupyter labextension install jupyterlab-mp4\" results in the\n",
    "following error message:<br>\n",
    "An error occured.\n",
    "ValueError: \"jupyterlab-mp4\" is not a valid npm package\n",
    "\n",
    "As of May 27, 2020, JupyterLab has added an experimental <b>Extension Manager</b> which can be enabled by choosing Settings > Enable Extension Manager in the app."
   ]
  },
  {
   "cell_type": "markdown",
   "id": "5aee8341",
   "metadata": {},
   "source": []
  }
 ],
 "metadata": {
  "kernelspec": {
   "display_name": "Python 3",
   "language": "python",
   "name": "python3"
  },
  "language_info": {
   "codemirror_mode": {
    "name": "ipython",
    "version": 3
   },
   "file_extension": ".py",
   "mimetype": "text/x-python",
   "name": "python",
   "nbconvert_exporter": "python",
   "pygments_lexer": "ipython3",
   "version": "3.7.7"
  }
 },
 "nbformat": 4,
 "nbformat_minor": 5
}
